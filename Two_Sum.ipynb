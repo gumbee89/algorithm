{
  "nbformat": 4,
  "nbformat_minor": 0,
  "metadata": {
    "colab": {
      "provenance": [],
      "authorship_tag": "ABX9TyOczrXrVo+w3yXpdZLiKGDR",
      "include_colab_link": true
    },
    "kernelspec": {
      "name": "python3",
      "display_name": "Python 3"
    },
    "language_info": {
      "name": "python"
    }
  },
  "cells": [
    {
      "cell_type": "markdown",
      "metadata": {
        "id": "view-in-github",
        "colab_type": "text"
      },
      "source": [
        "<a href=\"https://colab.research.google.com/github/gumbee89/algorithm/blob/main/Two_Sum.ipynb\" target=\"_parent\"><img src=\"https://colab.research.google.com/assets/colab-badge.svg\" alt=\"Open In Colab\"/></a>"
      ]
    },
    {
      "cell_type": "markdown",
      "source": [
        "# Two Sum\n",
        "https://leetcode.com/problems/two-sum/description/"
      ],
      "metadata": {
        "id": "RF-ZlqaasOo4"
      }
    },
    {
      "cell_type": "markdown",
      "source": [
        "To solve this problem, you can use a hash map (or dictionary) to keep track of the indices of the elements as you iterate through the list. The idea is to check if the complement (i.e., `target - current number`) of the current number exists in the hash map. If it does, you have found the two numbers that add up to the target.\n",
        "\n",
        "Here's the step-by-step algorithm:\n",
        "\n",
        "1. Initialize an empty hash map (dictionary) to store the indices of the numbers.\n",
        "2. Iterate through the list of numbers using a for loop.\n",
        "3. For each number, calculate its complement (i.e., `target - current number`).\n",
        "4. Check if the complement exists in the hash map:\n",
        "   - If it does, return the current index and the index of the complement.\n",
        "   - If it does not, add the current number and its index to the hash map.\n",
        "5. If the loop completes without finding a solution, return an empty list (though the problem guarantees that there is exactly one solution, so this step is more of a safeguard).\n",
        "\n",
        "Here is the Python implementation of the above algorithm:\n",
        "This solution works efficiently with a time complexity of O(n), where n is the number of elements in the list. The space complexity is also O(n) due to the storage of elements in the hash map."
      ],
      "metadata": {
        "id": "V4U_FXXqJ7U5"
      }
    },
    {
      "cell_type": "code",
      "source": [
        "def two_sum(nums, target):\n",
        "    num_to_index = {}  # Step 1: Initialize the hash map\n",
        "    for index, num in enumerate(nums):  # Step 2: Iterate through the list\n",
        "        complement = target - num  # Step 3: Calculate the complement\n",
        "        if complement in num_to_index:  # Step 4: Check if complement is in the hash map\n",
        "            return [num_to_index[complement], index]  # Found the solution\n",
        "        num_to_index[num] = index  # Step 4: Add the current number and its index to the hash map\n",
        "    return []  # This line is a safeguard, as we are guaranteed to have one solution\n",
        "\n",
        "# Example usage:\n",
        "print(two_sum([2, 7, 11, 15], 9))  # Output: [0, 1]\n",
        "print(two_sum([3, 2, 4], 6))  # Output: [1, 2]\n",
        "print(two_sum([3, 3], 6))  # Output: [0, 1]"
      ],
      "metadata": {
        "colab": {
          "base_uri": "https://localhost:8080/"
        },
        "id": "_8TvbeLMpa5g",
        "outputId": "60a33110-4416-4e98-84d6-ed6bc7988085"
      },
      "execution_count": 2,
      "outputs": [
        {
          "output_type": "stream",
          "name": "stdout",
          "text": [
            "[0, 1]\n",
            "[1, 2]\n",
            "[0, 1]\n"
          ]
        }
      ]
    },
    {
      "cell_type": "markdown",
      "source": [
        "# Procedural Explanation with Example"
      ],
      "metadata": {
        "id": "qtKMpWH1qEMj"
      }
    },
    {
      "cell_type": "markdown",
      "source": [
        "I will explain the algorithm step by step to solve the given problem. I'll use an example to illustrate each step.\n",
        "\n",
        "### Example:\n",
        "- Input array: `nums = [2, 7, 11, 15]`\n",
        "- Target value: `target = 9`\n",
        "\n",
        "### Algorithm Steps:\n",
        "1. Initialize an empty hash map (dictionary).\n",
        "2. Iterate through each element of the array.\n",
        "3. Calculate the complement of the current element (complement = target - current element).\n",
        "4. Check if the complement exists in the hash map:\n",
        "   - If it exists, return the current index and the index of the complement.\n",
        "   - If it does not exist, add the current element and its index to the hash map.\n",
        "5. Once the iteration is complete, return the indices of the two elements that add up to the target (this step is not necessary here as the problem guarantees exactly one solution).\n",
        "\n",
        "### Step-by-step Explanation Using the Example:\n",
        "1. **Initialize the hash map:**\n",
        "   ```python\n",
        "   num_to_index = {}\n",
        "   ```\n",
        "\n",
        "2. **Start iterating through the array:**\n",
        "   - First element (`nums[0] = 2`):\n",
        "     - Calculate the complement: `target - nums[0] = 9 - 2 = 7`\n",
        "     - Check if `7` exists in the hash map: It does not.\n",
        "     - Add the current element and its index to the hash map: `num_to_index = {2: 0}`\n",
        "     \n",
        "   ```python\n",
        "   num_to_index = {2: 0}\n",
        "   ```\n",
        "\n",
        "   - Second element (`nums[1] = 7`):\n",
        "     - Calculate the complement: `target - nums[1] = 9 - 7 = 2`\n",
        "     - Check if `2` exists in the hash map: It does (`2: 0`).\n",
        "     - Return the indices: `[0, 1]` (current index 1 and complement index 0)\n",
        "     \n",
        "   ```python\n",
        "   num_to_index = {2: 0}  # Current state of the hash map\n",
        "   complement = 2  # Calculated complement\n",
        "   if complement in num_to_index:  # Check if complement exists in the hash map\n",
        "       return [num_to_index[complement], index]  # Return indices [0, 1]\n",
        "   ```\n",
        "\n",
        "Now, let's explain this procedure using the code again:\n",
        "\n",
        "```python\n",
        "def two_sum(nums, target):\n",
        "    num_to_index = {}  # Step 1: Initialize the hash map\n",
        "\n",
        "    for index, num in enumerate(nums):  # Step 2: Iterate through the list\n",
        "        complement = target - num  # Step 3: Calculate the complement\n",
        "        \n",
        "        if complement in num_to_index:  # Step 4: Check if complement is in the hash map\n",
        "            return [num_to_index[complement], index]  # Step 4a: Found the solution, return indices\n",
        "        \n",
        "        num_to_index[num] = index  # Step 4b: Add the current number and its index to the hash map\n",
        "\n",
        "    return []  # This line is a safeguard, as we are guaranteed to have one solution\n",
        "```\n",
        "\n",
        "### Example Code Execution Steps:\n",
        "1. Initialize the `num_to_index` hash map: `{}`\n",
        "2. Calculate the complement for the first element (`2`), which is `7`, and check the hash map. Since it doesn't exist, add `2` and its index to the hash map: `{2: 0}`\n",
        "3. Calculate the complement for the second element (`7`), which is `2`, and check the hash map. Since it exists, return the current index (`1`) and the complement's index (`0`): `[0, 1]`\n",
        "\n",
        "This approach is efficient since it checks each element only once and uses the hash map to quickly find the complement, making the solution optimal."
      ],
      "metadata": {
        "id": "9GEp8vcXskO4"
      }
    },
    {
      "cell_type": "markdown",
      "source": [
        "If only one solution is not guaranteed, the code can be written to suit various scenarios. For example, you can find all possible pairs, return an empty list if no pairs are found, or return only the first pair found. Here are some codes for different situations.\n",
        "\n",
        "### 1. Returning only the first solution\n",
        "In this case, the code is similar to the original. However, if no solution exists, it returns an empty list.\n",
        "\n",
        "```python\n",
        "def two_sum(nums, target):\n",
        "    num_to_index = {}\n",
        "\n",
        "    for index, num in enumerate(nums):\n",
        "        complement = target - num\n",
        "        \n",
        "        if complement in num_to_index:\n",
        "            return [num_to_index[complement], index]\n",
        "        \n",
        "        num_to_index[num] = index\n",
        "\n",
        "    return []  # Return an empty list if no solution exists\n",
        "\n",
        "# Example execution\n",
        "print(two_sum([2, 7, 11, 15], 9))  # Output: [0, 1]\n",
        "print(two_sum([3, 2, 4], 6))  # Output: [1, 2]\n",
        "print(two_sum([3, 3], 6))  # Output: [0, 1]\n",
        "print(two_sum([1, 2, 3], 7))  # Output: [] (no solution)\n",
        "```\n",
        "\n",
        "### 2. Returning all possible pairs\n",
        "To find all possible pairs, gather the results in a list and return them.\n",
        "\n",
        "```python\n",
        "def two_sum_all(nums, target):\n",
        "    num_to_index = {}\n",
        "    result = []\n",
        "\n",
        "    for index, num in enumerate(nums):\n",
        "        complement = target - num\n",
        "        \n",
        "        if complement in num_to_index:\n",
        "            result.append([num_to_index[complement], index])\n",
        "        \n",
        "        num_to_index[num] = index\n",
        "\n",
        "    return result\n",
        "\n",
        "# Example execution\n",
        "print(two_sum_all([2, 7, 11, 15], 9))  # Output: [[0, 1]]\n",
        "print(two_sum_all([3, 2, 4, 3], 6))  # Output: [[1, 2], [0, 3]]\n",
        "print(two_sum_all([1, 2, 3, 4, 5, 6], 7))  # Output: [[0, 5], [1, 4], [2, 3]]\n",
        "print(two_sum_all([1, 2, 3], 7))  # Output: [] (no solution)\n",
        "```\n",
        "\n",
        "### 3. Returning all possible pairs without using the same index twice\n",
        "In this case, keep track of used indices to avoid duplication.\n",
        "\n",
        "```python\n",
        "def two_sum_unique(nums, target):\n",
        "    num_to_index = {}\n",
        "    result = []\n",
        "    used_indices = set()\n",
        "\n",
        "    for index, num in enumerate(nums):\n",
        "        complement = target - num\n",
        "        \n",
        "        if complement in num_to_index and num_to_index[complement] not in used_indices:\n",
        "            result.append([num_to_index[complement], index])\n",
        "            used_indices.add(num_to_index[complement])\n",
        "            used_indices.add(index)\n",
        "        \n",
        "        num_to_index[num] = index\n",
        "\n",
        "    return result\n",
        "\n",
        "# Example execution\n",
        "print(two_sum_unique([2, 7, 11, 15], 9))  # Output: [[0, 1]]\n",
        "print(two_sum_unique([3, 2, 4, 3], 6))  # Output: [[1, 2], [0, 3]]\n",
        "print(two_sum_unique([1, 2, 3, 4, 5, 6], 7))  # Output: [[0, 5], [1, 4], [2, 3]]\n",
        "print(two_sum_unique([1, 2, 3], 7))  # Output: [] (no solution)\n",
        "```\n",
        "\n",
        "In the above code examples, the appropriate form is written according to the requirements. Each example shows how to handle different scenarios: returning only the first solution, returning all possible pairs, and returning all pairs without reusing indices. This way, various requirements can be met."
      ],
      "metadata": {
        "id": "kPJEmJekslC9"
      }
    },
    {
      "cell_type": "code",
      "source": [],
      "metadata": {
        "id": "BXIBL1EYtvzF"
      },
      "execution_count": null,
      "outputs": []
    }
  ]
}