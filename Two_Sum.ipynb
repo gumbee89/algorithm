{
  "nbformat": 4,
  "nbformat_minor": 0,
  "metadata": {
    "colab": {
      "provenance": [],
      "authorship_tag": "ABX9TyMd8wZaIuT5WZdW5Kg8ORWZ",
      "include_colab_link": true
    },
    "kernelspec": {
      "name": "python3",
      "display_name": "Python 3"
    },
    "language_info": {
      "name": "python"
    }
  },
  "cells": [
    {
      "cell_type": "markdown",
      "metadata": {
        "id": "view-in-github",
        "colab_type": "text"
      },
      "source": [
        "<a href=\"https://colab.research.google.com/github/gumbee89/algorithm/blob/main/Two_Sum.ipynb\" target=\"_parent\"><img src=\"https://colab.research.google.com/assets/colab-badge.svg\" alt=\"Open In Colab\"/></a>"
      ]
    },
    {
      "cell_type": "markdown",
      "source": [
        "# Two Sum\n",
        "https://leetcode.com/problems/two-sum/description/"
      ],
      "metadata": {
        "id": "RF-ZlqaasOo4"
      }
    },
    {
      "cell_type": "markdown",
      "source": [
        "To solve this problem, you can use a hash map (or dictionary) to keep track of the indices of the elements as you iterate through the list. The idea is to check if the complement (i.e., `target - current number`) of the current number exists in the hash map. If it does, you have found the two numbers that add up to the target.\n",
        "\n",
        "Here's the step-by-step algorithm:\n",
        "\n",
        "1. Initialize an empty hash map (dictionary) to store the indices of the numbers.\n",
        "2. Iterate through the list of numbers using a for loop.\n",
        "3. For each number, calculate its complement (i.e., `target - current number`).\n",
        "4. Check if the complement exists in the hash map:\n",
        "   - If it does, return the current index and the index of the complement.\n",
        "   - If it does not, add the current number and its index to the hash map.\n",
        "5. If the loop completes without finding a solution, return an empty list (though the problem guarantees that there is exactly one solution, so this step is more of a safeguard).\n",
        "\n",
        "Here is the Python implementation of the above algorithm:\n",
        "This solution works efficiently with a time complexity of O(n), where n is the number of elements in the list. The space complexity is also O(n) due to the storage of elements in the hash map."
      ],
      "metadata": {
        "id": "V4U_FXXqJ7U5"
      }
    },
    {
      "cell_type": "code",
      "source": [
        "def two_sum(nums, target):\n",
        "    num_to_index = {}  # Step 1: Initialize the hash map\n",
        "    for index, num in enumerate(nums):  # Step 2: Iterate through the list\n",
        "        complement = target - num  # Step 3: Calculate the complement\n",
        "        if complement in num_to_index:  # Step 4: Check if complement is in the hash map\n",
        "            return [num_to_index[complement], index]  # Found the solution\n",
        "        num_to_index[num] = index  # Step 4: Add the current number and its index to the hash map\n",
        "    return []  # This line is a safeguard, as we are guaranteed to have one solution\n",
        "\n",
        "# Example usage:\n",
        "print(two_sum([2, 7, 11, 15], 9))  # Output: [0, 1]\n",
        "print(two_sum([3, 2, 4], 6))  # Output: [1, 2]\n",
        "print(two_sum([3, 3], 6))  # Output: [0, 1]"
      ],
      "metadata": {
        "colab": {
          "base_uri": "https://localhost:8080/"
        },
        "id": "_8TvbeLMpa5g",
        "outputId": "60a33110-4416-4e98-84d6-ed6bc7988085"
      },
      "execution_count": 2,
      "outputs": [
        {
          "output_type": "stream",
          "name": "stdout",
          "text": [
            "[0, 1]\n",
            "[1, 2]\n",
            "[0, 1]\n"
          ]
        }
      ]
    },
    {
      "cell_type": "markdown",
      "source": [
        "# Procedural Explanation with Example"
      ],
      "metadata": {
        "id": "qtKMpWH1qEMj"
      }
    },
    {
      "cell_type": "markdown",
      "source": [],
      "metadata": {
        "id": "9GEp8vcXskO4"
      }
    },
    {
      "cell_type": "markdown",
      "source": [
        "하나의 솔루션만 보장이 되지 않는 경우에는, 여러 가지 상황에 맞게 코드를 작성할 수 있습니다. 예를 들어, 모든 가능한 쌍을 찾거나, 없는 경우 빈 리스트를 반환하거나, 가장 먼저 발견한 쌍만 반환할 수도 있습니다. 여기에서는 몇 가지 상황별로 코드를 작성해보겠습니다.\n",
        "\n",
        "### 1. 첫 번째 솔루션만 반환하는 경우\n",
        "이 경우에는 기존 코드와 동일하게 작성하면 됩니다. 단, 하나의 솔루션이 없는 경우 빈 리스트를 반환합니다.\n",
        "\n",
        "```python\n",
        "def two_sum(nums, target):\n",
        "    num_to_index = {}\n",
        "\n",
        "    for index, num in enumerate(nums):\n",
        "        complement = target - num\n",
        "        \n",
        "        if complement in num_to_index:\n",
        "            return [num_to_index[complement], index]\n",
        "        \n",
        "        num_to_index[num] = index\n",
        "\n",
        "    return []  # 솔루션이 없는 경우 빈 리스트 반환\n",
        "\n",
        "# 예시 실행\n",
        "print(two_sum([2, 7, 11, 15], 9))  # 출력: [0, 1]\n",
        "print(two_sum([3, 2, 4], 6))  # 출력: [1, 2]\n",
        "print(two_sum([3, 3], 6))  # 출력: [0, 1]\n",
        "print(two_sum([1, 2, 3], 7))  # 출력: [] (솔루션 없음)\n",
        "```\n",
        "\n",
        "### 2. 모든 가능한 쌍을 반환하는 경우\n",
        "모든 가능한 쌍을 찾아야 하는 경우에는, 결과를 리스트에 모아 반환해야 합니다.\n",
        "\n",
        "```python\n",
        "def two_sum_all(nums, target):\n",
        "    num_to_index = {}\n",
        "    result = []\n",
        "\n",
        "    for index, num in enumerate(nums):\n",
        "        complement = target - num\n",
        "        \n",
        "        if complement in num_to_index:\n",
        "            result.append([num_to_index[complement], index])\n",
        "        \n",
        "        num_to_index[num] = index\n",
        "\n",
        "    return result\n",
        "\n",
        "# 예시 실행\n",
        "print(two_sum_all([2, 7, 11, 15], 9))  # 출력: [[0, 1]]\n",
        "print(two_sum_all([3, 2, 4, 3], 6))  # 출력: [[1, 2], [0, 3]]\n",
        "print(two_sum_all([1, 2, 3, 4, 5, 6], 7))  # 출력: [[0, 5], [1, 4], [2, 3]]\n",
        "print(two_sum_all([1, 2, 3], 7))  # 출력: [] (솔루션 없음)\n",
        "```\n",
        "\n",
        "### 3. 모든 가능한 쌍을 반환하되, 동일한 인덱스를 두 번 사용할 수 없는 경우\n",
        "이 경우, 중복을 피하기 위해 인덱스 사용 여부를 기록해야 합니다.\n",
        "\n",
        "```python\n",
        "def two_sum_unique(nums, target):\n",
        "    num_to_index = {}\n",
        "    result = []\n",
        "    used_indices = set()\n",
        "\n",
        "    for index, num in enumerate(nums):\n",
        "        complement = target - num\n",
        "        \n",
        "        if complement in num_to_index and num_to_index[complement] not in used_indices:\n",
        "            result.append([num_to_index[complement], index])\n",
        "            used_indices.add(num_to_index[complement])\n",
        "            used_indices.add(index)\n",
        "        \n",
        "        num_to_index[num] = index\n",
        "\n",
        "    return result\n",
        "\n",
        "# 예시 실행\n",
        "print(two_sum_unique([2, 7, 11, 15], 9))  # 출력: [[0, 1]]\n",
        "print(two_sum_unique([3, 2, 4, 3], 6))  # 출력: [[1, 2], [0, 3]]\n",
        "print(two_sum_unique([1, 2, 3, 4, 5, 6], 7))  # 출력: [[0, 5], [1, 4], [2, 3]]\n",
        "print(two_sum_unique([1, 2, 3], 7))  # 출력: [] (솔루션 없음)\n",
        "```\n",
        "\n",
        "위의 코드들에서, 문제의 요구사항에 따라 적절한 형태로 작성할 수 있습니다. 첫 번째 솔루션만 반환하는 경우, 모든 가능한 쌍을 반환하는 경우, 그리고 중복 인덱스를 사용하지 않고 모든 쌍을 반환하는 경우에 대해 각각 설명하였습니다. 이를 통해 다양한 요구사항을 충족할 수 있습니다."
      ],
      "metadata": {
        "id": "kPJEmJekslC9"
      }
    },
    {
      "cell_type": "code",
      "source": [],
      "metadata": {
        "id": "BXIBL1EYtvzF"
      },
      "execution_count": null,
      "outputs": []
    }
  ]
}