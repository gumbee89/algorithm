{
  "nbformat": 4,
  "nbformat_minor": 0,
  "metadata": {
    "colab": {
      "provenance": [],
      "authorship_tag": "ABX9TyMfBPnQnElzqjURKgKpZgt5",
      "include_colab_link": true
    },
    "kernelspec": {
      "name": "python3",
      "display_name": "Python 3"
    },
    "language_info": {
      "name": "python"
    }
  },
  "cells": [
    {
      "cell_type": "markdown",
      "metadata": {
        "id": "view-in-github",
        "colab_type": "text"
      },
      "source": [
        "<a href=\"https://colab.research.google.com/github/gumbee89/algorithm/blob/main/Move_Zeroes.ipynb\" target=\"_parent\"><img src=\"https://colab.research.google.com/assets/colab-badge.svg\" alt=\"Open In Colab\"/></a>"
      ]
    },
    {
      "cell_type": "markdown",
      "source": [
        "#Move Zeroes\n",
        "https://leetcode.com/problems/move-zeroes/"
      ],
      "metadata": {
        "id": "QctVjqwIcr6Z"
      }
    },
    {
      "cell_type": "code",
      "source": [
        "class Solution:\n",
        "    def moveZeroes(self, nums: List[int]) -> None:\n",
        "        \"\"\"\n",
        "        Do not return anything, modify nums in-place instead.\n",
        "        \"\"\"\n",
        "        # Initialize the position for the next non-zero element\n",
        "        position = 0\n",
        "\n",
        "        # Move all non-zero elements to the front\n",
        "        for num in nums:\n",
        "            if num != 0:\n",
        "                nums[position] = num\n",
        "                position += 1\n",
        "\n",
        "        # Fill the rest of the array with zeros\n",
        "        for i in range(position, len(nums)):\n",
        "            nums[i] = 0\n"
      ],
      "metadata": {
        "id": "iGNGwTGXc_Qz"
      },
      "execution_count": null,
      "outputs": []
    },
    {
      "cell_type": "markdown",
      "source": [
        "## Explanation:\n",
        "Position Tracking:\n",
        "\n",
        "The variable position keeps track of where the next non-zero element should be placed in the nums list.\n",
        "Move Non-Zero Elements:\n",
        "\n",
        "The first loop iterates through the nums list, placing each non-zero element at the current position index and then increments position.\n",
        "Fill Zeros:\n",
        "\n",
        "After placing all non-zero elements, the second loop fills the remaining positions in the nums list with zeros, starting from the index position to the end of the list.\n",
        "This approach ensures that you modify the nums list in place and correctly handles the movement of zeros to the end while maintaining the order of non-zero elements."
      ],
      "metadata": {
        "id": "LOvmTSAmc2x2"
      }
    },
    {
      "cell_type": "markdown",
      "source": [
        "Let’s walk through the revised code step by step using an example. Suppose we have the input list `nums = [0, 1, 0, 3, 12]`.\n",
        "\n",
        "### Initial State\n",
        "- `nums = [0, 1, 0, 3, 12]`\n",
        "- `position = 0`\n",
        "\n",
        "### Step-by-Step Execution\n",
        "\n",
        "#### Step 1: Move Non-Zero Elements\n",
        "\n",
        "We need to move all non-zero elements to the beginning of the `nums` list.\n",
        "\n",
        "1. **Iteration 1: `num = 0`**\n",
        "   - `num` is zero, so we don't make any changes. `position` remains `0`.\n",
        "   - `nums` stays `[0, 1, 0, 3, 12]`.\n",
        "\n",
        "2. **Iteration 2: `num = 1`**\n",
        "   - `num` is not zero, so we place it at index `position = 0` and increment `position` by 1.\n",
        "   - Updated `nums`: `[1, 1, 0, 3, 12]`\n",
        "   - Updated `position`: `1`\n",
        "\n",
        "3. **Iteration 3: `num = 0`**\n",
        "   - `num` is zero, so we don't make any changes. `position` remains `1`.\n",
        "   - `nums` stays `[1, 1, 0, 3, 12]`.\n",
        "\n",
        "4. **Iteration 4: `num = 3`**\n",
        "   - `num` is not zero, so we place it at index `position = 1` and increment `position` by 1.\n",
        "   - Updated `nums`: `[1, 3, 0, 3, 12]`\n",
        "   - Updated `position`: `2`\n",
        "\n",
        "5. **Iteration 5: `num = 12`**\n",
        "   - `num` is not zero, so we place it at index `position = 2` and increment `position` by 1.\n",
        "   - Updated `nums`: `[1, 3, 12, 3, 12]`\n",
        "   - Updated `position`: `3`\n",
        "\n",
        "After the first loop, all non-zero elements are moved to the front of the list, and `position` is `3`.\n",
        "\n",
        "#### Step 2: Fill Remaining Positions with Zeros\n",
        "\n",
        "We need to fill the rest of the list with zeros starting from the index `position = 3`.\n",
        "\n",
        "1. **Index 3:**\n",
        "   - `i = 3`, set `nums[i]` to `0`.\n",
        "   - Updated `nums`: `[1, 3, 12, 0, 12]`\n",
        "\n",
        "2. **Index 4:**\n",
        "   - `i = 4`, set `nums[i]` to `0`.\n",
        "   - Updated `nums`: `[1, 3, 12, 0, 0]`\n",
        "\n",
        "The final state of the list is `[1, 3, 12, 0, 0]`, where all non-zero elements are at the beginning, and all zeros are moved to the end.\n",
        "\n",
        "### Summary\n",
        "1. **First Loop**: Moves all non-zero elements to the beginning of the list while keeping track of the next position to place a non-zero element.\n",
        "2. **Second Loop**: Fills the remaining part of the list with zeros starting from the position where non-zero elements ended.\n",
        "\n",
        "The code ensures that you modify the list in place and the order of non-zero elements is preserved."
      ],
      "metadata": {
        "id": "lz7ygWHydG0W"
      }
    },
    {
      "cell_type": "markdown",
      "source": [
        "# Better Solution"
      ],
      "metadata": {
        "id": "GyU2XH-ufP7g"
      }
    },
    {
      "cell_type": "code",
      "source": [
        "class Solution(object):\n",
        "    def moveZeroes(self, nums):\n",
        "\n",
        "        non_zero = 0  # Pointer for non-zero elements\n",
        "\n",
        "        # Move all non-zero elements to the front\n",
        "        for i in range(len(nums)):\n",
        "            if nums[i] != 0:\n",
        "                nums[i], nums[non_zero] = nums[non_zero], nums[i]\n",
        "                non_zero += 1\n",
        ""
      ],
      "metadata": {
        "id": "cS4I19T6fR8a"
      },
      "execution_count": null,
      "outputs": []
    },
    {
      "cell_type": "markdown",
      "source": [
        "Let’s break down and explain the provided code, and then compare it to the previous solution.\n",
        "\n",
        "### Provided Code Explanation\n",
        "\n",
        "```python\n",
        "class Solution(object):\n",
        "    def moveZeroes(self, nums):\n",
        "        non_zero = 0  # Pointer for non-zero elements\n",
        "        \n",
        "        # Move all non-zero elements to the front\n",
        "        for i in range(len(nums)):\n",
        "            if nums[i] != 0:\n",
        "                nums[i], nums[non_zero] = nums[non_zero], nums[i]\n",
        "                non_zero += 1\n",
        "```\n",
        "\n",
        "#### How It Works:\n",
        "\n",
        "1. **Initialization**:\n",
        "   - `non_zero = 0`: This variable keeps track of the index where the next non-zero element should be placed. It starts from the beginning of the list.\n",
        "\n",
        "2. **Iterating Through the List**:\n",
        "   - The `for` loop iterates over each index `i` from `0` to `len(nums) - 1`.\n",
        "\n",
        "3. **Swapping Non-Zero Elements**:\n",
        "   - Within the loop, if `nums[i]` is not zero, it means we have encountered a non-zero element.\n",
        "   - The code then swaps `nums[i]` (the current non-zero element) with `nums[non_zero]` (the element at the `non_zero` index). This swap ensures that non-zero elements are moved to the front.\n",
        "   - After the swap, `non_zero` is incremented to point to the next position where the next non-zero element should go.\n",
        "\n",
        "4. **No Explicit Zero Placement**:\n",
        "   - Notice that there is no separate loop to handle zero placement. Instead, zeroes naturally move to the end of the list as a result of the swapping process.\n",
        "\n",
        "### Example Walkthrough\n",
        "\n",
        "Given `nums = [0, 1, 0, 3, 12]`:\n",
        "\n",
        "1. **Initial State**:\n",
        "   - `nums = [0, 1, 0, 3, 12]`\n",
        "   - `non_zero = 0`\n",
        "\n",
        "2. **Iteration**:\n",
        "   - **i = 0**: `nums[0]` is `0`. No swap. `non_zero` remains `0`.\n",
        "   - **i = 1**: `nums[1]` is `1`. Swap `nums[1]` with `nums[0]`. Updated `nums = [1, 0, 0, 3, 12]`. Increment `non_zero` to `1`.\n",
        "   - **i = 2**: `nums[2]` is `0`. No swap. `non_zero` remains `1`.\n",
        "   - **i = 3**: `nums[3]` is `3`. Swap `nums[3]` with `nums[1]`. Updated `nums = [1, 3, 0, 0, 12]`. Increment `non_zero` to `2`.\n",
        "   - **i = 4**: `nums[4]` is `12`. Swap `nums[4]` with `nums[2]`. Updated `nums = [1, 3, 12, 0, 0]`. Increment `non_zero` to `3`.\n",
        "\n",
        "3. **Final State**:\n",
        "   - `nums = [1, 3, 12, 0, 0]`\n",
        "\n",
        "### Comparison with Previous Solution\n",
        "\n",
        "**Similarities**:\n",
        "- Both approaches move non-zero elements to the beginning of the list.\n",
        "- Both ensure that zeros are pushed to the end of the list.\n",
        "\n",
        "**Differences**:\n",
        "- **Swapping Method vs. Separate Zero Placement**:\n",
        "  - **Provided Code**: Uses a swapping mechanism to move non-zero elements to the front. Zeroes are automatically moved to the end as a consequence of the swaps.\n",
        "  - **Previous Solution**: First places all non-zero elements at the start and then fills the rest of the list with zeros using a separate loop.\n",
        "\n",
        "- **In-Place Modification**:\n",
        "  - Both methods modify the list in place without needing extra space proportional to the input size.\n",
        "\n",
        "**Efficiency**:\n",
        "- **Both methods are efficient**:\n",
        "  - The provided code is a single-pass approach where each element is examined once and swapped if necessary.\n",
        "  - The previous solution has two passes over the list: one to move non-zero elements and another to place zeros. However, this method is also efficient with a time complexity of \\(O(n)\\) and space complexity of \\(O(1)\\).\n",
        "\n",
        "Overall, the provided code is a compact and elegant solution that achieves the goal with fewer lines of code by utilizing swapping to move non-zero elements and implicitly handle zeros."
      ],
      "metadata": {
        "id": "vIJ09PPmfVaG"
      }
    },
    {
      "cell_type": "code",
      "source": [],
      "metadata": {
        "id": "qEyweZDBfd3l"
      },
      "execution_count": null,
      "outputs": []
    }
  ]
}